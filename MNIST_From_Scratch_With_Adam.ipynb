{
  "cells": [
    {
      "cell_type": "markdown",
      "metadata": {
        "id": "Q8F-Fes5fYOK"
      },
      "source": [
        "##### **Welcome to Exploring Neural Networks for Digit Recognition**\n",
        "\n",
        "In this notebook, we delve into the intricate details of building a neural network from scratch for digit recognition using NumPy and Python. Our main focus is on understanding the intricacies of the Adam Optimizer alongside Mini-Batch Gradient Descent.\n",
        "\n",
        "##### **Objectives and Goals**\n",
        "\n",
        "The primary objectives of this exploration are twofold:\n",
        "\n",
        "1. Detailed Analysis: Provide an in-depth analysis of designing and implementing a neural network, including training processes and optimization techniques.\n",
        "\n",
        "2. Optimization Techniques: Explore and explain the theory behind Mini-Batch Gradient Descent and the advanced Adam Optimizer for model optimization.\n",
        "\n",
        "This notebook serves as part 2 of our from-scratch series. If you're interested in the basics using Vanilla Gradient Descent, you can find our previous work [here](https://github.com/Kiana-Jafari/Digit-Recognition-From-Scratch)."
      ]
    },
    {
      "cell_type": "markdown",
      "metadata": {
        "id": "nzyu03u3n51V"
      },
      "source": [
        "### Task 1a. Imports and loading"
      ]
    },
    {
      "cell_type": "markdown",
      "metadata": {
        "id": "fRV2zv-JjFLS"
      },
      "source": [
        "We begin by importing essential libraries and loading a subset of the MNIST dataset from Google Colaboratory."
      ]
    },
    {
      "cell_type": "code",
      "execution_count": 1,
      "metadata": {
        "id": "pq-Ny18mNK-l"
      },
      "outputs": [],
      "source": [
        "# Import Packages\n",
        "import pandas as pd\n",
        "import numpy as np\n",
        "import matplotlib.pyplot as plt\n",
        "import seaborn as sns"
      ]
    },
    {
      "cell_type": "code",
      "execution_count": 2,
      "metadata": {
        "colab": {
          "base_uri": "https://localhost:8080/",
          "height": 255
        },
        "id": "vXFSpbVWQjsc",
        "outputId": "f9a655f6-9be0-4794-d22d-916a119fc6c0"
      },
      "outputs": [
        {
          "data": {
            "application/vnd.google.colaboratory.intrinsic+json": {
              "type": "dataframe",
              "variable_name": "data"
            },
            "text/html": [
              "\n",
              "  <div id=\"df-f754fd7e-880d-4f1d-9855-5b6f39417d7e\" class=\"colab-df-container\">\n",
              "    <div>\n",
              "<style scoped>\n",
              "    .dataframe tbody tr th:only-of-type {\n",
              "        vertical-align: middle;\n",
              "    }\n",
              "\n",
              "    .dataframe tbody tr th {\n",
              "        vertical-align: top;\n",
              "    }\n",
              "\n",
              "    .dataframe thead th {\n",
              "        text-align: right;\n",
              "    }\n",
              "</style>\n",
              "<table border=\"1\" class=\"dataframe\">\n",
              "  <thead>\n",
              "    <tr style=\"text-align: right;\">\n",
              "      <th></th>\n",
              "      <th>label</th>\n",
              "      <th>0</th>\n",
              "      <th>0.1</th>\n",
              "      <th>0.2</th>\n",
              "      <th>0.3</th>\n",
              "      <th>0.4</th>\n",
              "      <th>0.5</th>\n",
              "      <th>0.6</th>\n",
              "      <th>0.7</th>\n",
              "      <th>0.8</th>\n",
              "      <th>...</th>\n",
              "      <th>0.581</th>\n",
              "      <th>0.582</th>\n",
              "      <th>0.583</th>\n",
              "      <th>0.584</th>\n",
              "      <th>0.585</th>\n",
              "      <th>0.586</th>\n",
              "      <th>0.587</th>\n",
              "      <th>0.588</th>\n",
              "      <th>0.589</th>\n",
              "      <th>0.590</th>\n",
              "    </tr>\n",
              "  </thead>\n",
              "  <tbody>\n",
              "    <tr>\n",
              "      <th>0</th>\n",
              "      <td>5</td>\n",
              "      <td>0</td>\n",
              "      <td>0</td>\n",
              "      <td>0</td>\n",
              "      <td>0</td>\n",
              "      <td>0</td>\n",
              "      <td>0</td>\n",
              "      <td>0</td>\n",
              "      <td>0</td>\n",
              "      <td>0</td>\n",
              "      <td>...</td>\n",
              "      <td>0</td>\n",
              "      <td>0</td>\n",
              "      <td>0</td>\n",
              "      <td>0</td>\n",
              "      <td>0</td>\n",
              "      <td>0</td>\n",
              "      <td>0</td>\n",
              "      <td>0</td>\n",
              "      <td>0</td>\n",
              "      <td>0</td>\n",
              "    </tr>\n",
              "    <tr>\n",
              "      <th>1</th>\n",
              "      <td>7</td>\n",
              "      <td>0</td>\n",
              "      <td>0</td>\n",
              "      <td>0</td>\n",
              "      <td>0</td>\n",
              "      <td>0</td>\n",
              "      <td>0</td>\n",
              "      <td>0</td>\n",
              "      <td>0</td>\n",
              "      <td>0</td>\n",
              "      <td>...</td>\n",
              "      <td>0</td>\n",
              "      <td>0</td>\n",
              "      <td>0</td>\n",
              "      <td>0</td>\n",
              "      <td>0</td>\n",
              "      <td>0</td>\n",
              "      <td>0</td>\n",
              "      <td>0</td>\n",
              "      <td>0</td>\n",
              "      <td>0</td>\n",
              "    </tr>\n",
              "    <tr>\n",
              "      <th>2</th>\n",
              "      <td>9</td>\n",
              "      <td>0</td>\n",
              "      <td>0</td>\n",
              "      <td>0</td>\n",
              "      <td>0</td>\n",
              "      <td>0</td>\n",
              "      <td>0</td>\n",
              "      <td>0</td>\n",
              "      <td>0</td>\n",
              "      <td>0</td>\n",
              "      <td>...</td>\n",
              "      <td>0</td>\n",
              "      <td>0</td>\n",
              "      <td>0</td>\n",
              "      <td>0</td>\n",
              "      <td>0</td>\n",
              "      <td>0</td>\n",
              "      <td>0</td>\n",
              "      <td>0</td>\n",
              "      <td>0</td>\n",
              "      <td>0</td>\n",
              "    </tr>\n",
              "    <tr>\n",
              "      <th>3</th>\n",
              "      <td>5</td>\n",
              "      <td>0</td>\n",
              "      <td>0</td>\n",
              "      <td>0</td>\n",
              "      <td>0</td>\n",
              "      <td>0</td>\n",
              "      <td>0</td>\n",
              "      <td>0</td>\n",
              "      <td>0</td>\n",
              "      <td>0</td>\n",
              "      <td>...</td>\n",
              "      <td>0</td>\n",
              "      <td>0</td>\n",
              "      <td>0</td>\n",
              "      <td>0</td>\n",
              "      <td>0</td>\n",
              "      <td>0</td>\n",
              "      <td>0</td>\n",
              "      <td>0</td>\n",
              "      <td>0</td>\n",
              "      <td>0</td>\n",
              "    </tr>\n",
              "    <tr>\n",
              "      <th>4</th>\n",
              "      <td>2</td>\n",
              "      <td>0</td>\n",
              "      <td>0</td>\n",
              "      <td>0</td>\n",
              "      <td>0</td>\n",
              "      <td>0</td>\n",
              "      <td>0</td>\n",
              "      <td>0</td>\n",
              "      <td>0</td>\n",
              "      <td>0</td>\n",
              "      <td>...</td>\n",
              "      <td>0</td>\n",
              "      <td>0</td>\n",
              "      <td>0</td>\n",
              "      <td>0</td>\n",
              "      <td>0</td>\n",
              "      <td>0</td>\n",
              "      <td>0</td>\n",
              "      <td>0</td>\n",
              "      <td>0</td>\n",
              "      <td>0</td>\n",
              "    </tr>\n",
              "  </tbody>\n",
              "</table>\n",
              "<p>5 rows × 785 columns</p>\n",
              "</div>\n",
              "    <div class=\"colab-df-buttons\">\n",
              "\n",
              "  <div class=\"colab-df-container\">\n",
              "    <button class=\"colab-df-convert\" onclick=\"convertToInteractive('df-f754fd7e-880d-4f1d-9855-5b6f39417d7e')\"\n",
              "            title=\"Convert this dataframe to an interactive table.\"\n",
              "            style=\"display:none;\">\n",
              "\n",
              "  <svg xmlns=\"http://www.w3.org/2000/svg\" height=\"24px\" viewBox=\"0 -960 960 960\">\n",
              "    <path d=\"M120-120v-720h720v720H120Zm60-500h600v-160H180v160Zm220 220h160v-160H400v160Zm0 220h160v-160H400v160ZM180-400h160v-160H180v160Zm440 0h160v-160H620v160ZM180-180h160v-160H180v160Zm440 0h160v-160H620v160Z\"/>\n",
              "  </svg>\n",
              "    </button>\n",
              "\n",
              "  <style>\n",
              "    .colab-df-container {\n",
              "      display:flex;\n",
              "      gap: 12px;\n",
              "    }\n",
              "\n",
              "    .colab-df-convert {\n",
              "      background-color: #E8F0FE;\n",
              "      border: none;\n",
              "      border-radius: 50%;\n",
              "      cursor: pointer;\n",
              "      display: none;\n",
              "      fill: #1967D2;\n",
              "      height: 32px;\n",
              "      padding: 0 0 0 0;\n",
              "      width: 32px;\n",
              "    }\n",
              "\n",
              "    .colab-df-convert:hover {\n",
              "      background-color: #E2EBFA;\n",
              "      box-shadow: 0px 1px 2px rgba(60, 64, 67, 0.3), 0px 1px 3px 1px rgba(60, 64, 67, 0.15);\n",
              "      fill: #174EA6;\n",
              "    }\n",
              "\n",
              "    .colab-df-buttons div {\n",
              "      margin-bottom: 4px;\n",
              "    }\n",
              "\n",
              "    [theme=dark] .colab-df-convert {\n",
              "      background-color: #3B4455;\n",
              "      fill: #D2E3FC;\n",
              "    }\n",
              "\n",
              "    [theme=dark] .colab-df-convert:hover {\n",
              "      background-color: #434B5C;\n",
              "      box-shadow: 0px 1px 3px 1px rgba(0, 0, 0, 0.15);\n",
              "      filter: drop-shadow(0px 1px 2px rgba(0, 0, 0, 0.3));\n",
              "      fill: #FFFFFF;\n",
              "    }\n",
              "  </style>\n",
              "\n",
              "    <script>\n",
              "      const buttonEl =\n",
              "        document.querySelector('#df-f754fd7e-880d-4f1d-9855-5b6f39417d7e button.colab-df-convert');\n",
              "      buttonEl.style.display =\n",
              "        google.colab.kernel.accessAllowed ? 'block' : 'none';\n",
              "\n",
              "      async function convertToInteractive(key) {\n",
              "        const element = document.querySelector('#df-f754fd7e-880d-4f1d-9855-5b6f39417d7e');\n",
              "        const dataTable =\n",
              "          await google.colab.kernel.invokeFunction('convertToInteractive',\n",
              "                                                    [key], {});\n",
              "        if (!dataTable) return;\n",
              "\n",
              "        const docLinkHtml = 'Like what you see? Visit the ' +\n",
              "          '<a target=\"_blank\" href=https://colab.research.google.com/notebooks/data_table.ipynb>data table notebook</a>'\n",
              "          + ' to learn more about interactive tables.';\n",
              "        element.innerHTML = '';\n",
              "        dataTable['output_type'] = 'display_data';\n",
              "        await google.colab.output.renderOutput(dataTable, element);\n",
              "        const docLink = document.createElement('div');\n",
              "        docLink.innerHTML = docLinkHtml;\n",
              "        element.appendChild(docLink);\n",
              "      }\n",
              "    </script>\n",
              "  </div>\n",
              "\n",
              "\n",
              "<div id=\"df-48e986be-3893-455f-ae17-c60961cc8195\">\n",
              "  <button class=\"colab-df-quickchart\" onclick=\"quickchart('df-48e986be-3893-455f-ae17-c60961cc8195')\"\n",
              "            title=\"Suggest charts\"\n",
              "            style=\"display:none;\">\n",
              "\n",
              "<svg xmlns=\"http://www.w3.org/2000/svg\" height=\"24px\"viewBox=\"0 0 24 24\"\n",
              "     width=\"24px\">\n",
              "    <g>\n",
              "        <path d=\"M19 3H5c-1.1 0-2 .9-2 2v14c0 1.1.9 2 2 2h14c1.1 0 2-.9 2-2V5c0-1.1-.9-2-2-2zM9 17H7v-7h2v7zm4 0h-2V7h2v10zm4 0h-2v-4h2v4z\"/>\n",
              "    </g>\n",
              "</svg>\n",
              "  </button>\n",
              "\n",
              "<style>\n",
              "  .colab-df-quickchart {\n",
              "      --bg-color: #E8F0FE;\n",
              "      --fill-color: #1967D2;\n",
              "      --hover-bg-color: #E2EBFA;\n",
              "      --hover-fill-color: #174EA6;\n",
              "      --disabled-fill-color: #AAA;\n",
              "      --disabled-bg-color: #DDD;\n",
              "  }\n",
              "\n",
              "  [theme=dark] .colab-df-quickchart {\n",
              "      --bg-color: #3B4455;\n",
              "      --fill-color: #D2E3FC;\n",
              "      --hover-bg-color: #434B5C;\n",
              "      --hover-fill-color: #FFFFFF;\n",
              "      --disabled-bg-color: #3B4455;\n",
              "      --disabled-fill-color: #666;\n",
              "  }\n",
              "\n",
              "  .colab-df-quickchart {\n",
              "    background-color: var(--bg-color);\n",
              "    border: none;\n",
              "    border-radius: 50%;\n",
              "    cursor: pointer;\n",
              "    display: none;\n",
              "    fill: var(--fill-color);\n",
              "    height: 32px;\n",
              "    padding: 0;\n",
              "    width: 32px;\n",
              "  }\n",
              "\n",
              "  .colab-df-quickchart:hover {\n",
              "    background-color: var(--hover-bg-color);\n",
              "    box-shadow: 0 1px 2px rgba(60, 64, 67, 0.3), 0 1px 3px 1px rgba(60, 64, 67, 0.15);\n",
              "    fill: var(--button-hover-fill-color);\n",
              "  }\n",
              "\n",
              "  .colab-df-quickchart-complete:disabled,\n",
              "  .colab-df-quickchart-complete:disabled:hover {\n",
              "    background-color: var(--disabled-bg-color);\n",
              "    fill: var(--disabled-fill-color);\n",
              "    box-shadow: none;\n",
              "  }\n",
              "\n",
              "  .colab-df-spinner {\n",
              "    border: 2px solid var(--fill-color);\n",
              "    border-color: transparent;\n",
              "    border-bottom-color: var(--fill-color);\n",
              "    animation:\n",
              "      spin 1s steps(1) infinite;\n",
              "  }\n",
              "\n",
              "  @keyframes spin {\n",
              "    0% {\n",
              "      border-color: transparent;\n",
              "      border-bottom-color: var(--fill-color);\n",
              "      border-left-color: var(--fill-color);\n",
              "    }\n",
              "    20% {\n",
              "      border-color: transparent;\n",
              "      border-left-color: var(--fill-color);\n",
              "      border-top-color: var(--fill-color);\n",
              "    }\n",
              "    30% {\n",
              "      border-color: transparent;\n",
              "      border-left-color: var(--fill-color);\n",
              "      border-top-color: var(--fill-color);\n",
              "      border-right-color: var(--fill-color);\n",
              "    }\n",
              "    40% {\n",
              "      border-color: transparent;\n",
              "      border-right-color: var(--fill-color);\n",
              "      border-top-color: var(--fill-color);\n",
              "    }\n",
              "    60% {\n",
              "      border-color: transparent;\n",
              "      border-right-color: var(--fill-color);\n",
              "    }\n",
              "    80% {\n",
              "      border-color: transparent;\n",
              "      border-right-color: var(--fill-color);\n",
              "      border-bottom-color: var(--fill-color);\n",
              "    }\n",
              "    90% {\n",
              "      border-color: transparent;\n",
              "      border-bottom-color: var(--fill-color);\n",
              "    }\n",
              "  }\n",
              "</style>\n",
              "\n",
              "  <script>\n",
              "    async function quickchart(key) {\n",
              "      const quickchartButtonEl =\n",
              "        document.querySelector('#' + key + ' button');\n",
              "      quickchartButtonEl.disabled = true;  // To prevent multiple clicks.\n",
              "      quickchartButtonEl.classList.add('colab-df-spinner');\n",
              "      try {\n",
              "        const charts = await google.colab.kernel.invokeFunction(\n",
              "            'suggestCharts', [key], {});\n",
              "      } catch (error) {\n",
              "        console.error('Error during call to suggestCharts:', error);\n",
              "      }\n",
              "      quickchartButtonEl.classList.remove('colab-df-spinner');\n",
              "      quickchartButtonEl.classList.add('colab-df-quickchart-complete');\n",
              "    }\n",
              "    (() => {\n",
              "      let quickchartButtonEl =\n",
              "        document.querySelector('#df-48e986be-3893-455f-ae17-c60961cc8195 button');\n",
              "      quickchartButtonEl.style.display =\n",
              "        google.colab.kernel.accessAllowed ? 'block' : 'none';\n",
              "    })();\n",
              "  </script>\n",
              "</div>\n",
              "    </div>\n",
              "  </div>\n"
            ],
            "text/plain": [
              "   label  0  0.1  0.2  0.3  0.4  0.5  0.6  0.7  0.8  ...  0.581  0.582  0.583  \\\n",
              "0      5  0    0    0    0    0    0    0    0    0  ...      0      0      0   \n",
              "1      7  0    0    0    0    0    0    0    0    0  ...      0      0      0   \n",
              "2      9  0    0    0    0    0    0    0    0    0  ...      0      0      0   \n",
              "3      5  0    0    0    0    0    0    0    0    0  ...      0      0      0   \n",
              "4      2  0    0    0    0    0    0    0    0    0  ...      0      0      0   \n",
              "\n",
              "   0.584  0.585  0.586  0.587  0.588  0.589  0.590  \n",
              "0      0      0      0      0      0      0      0  \n",
              "1      0      0      0      0      0      0      0  \n",
              "2      0      0      0      0      0      0      0  \n",
              "3      0      0      0      0      0      0      0  \n",
              "4      0      0      0      0      0      0      0  \n",
              "\n",
              "[5 rows x 785 columns]"
            ]
          },
          "execution_count": 2,
          "metadata": {},
          "output_type": "execute_result"
        }
      ],
      "source": [
        "# Load and Read the Training data\n",
        "data = pd.read_csv('/content/sample_data/mnist_train_small.csv')\n",
        "data = data.rename(columns={'6':'label'})\n",
        "\n",
        "# Display a few couple of rows\n",
        "data.head()"
      ]
    },
    {
      "cell_type": "markdown",
      "metadata": {
        "id": "PGNFgvDCn9V3"
      },
      "source": [
        "### Task 2a. Data Preprocessing"
      ]
    },
    {
      "cell_type": "markdown",
      "metadata": {
        "id": "WiD3pSlIJ9UE"
      },
      "source": [
        "In this task, the dataset is preprocessed, scaled (Normalize the pixel values to a range of [0, 1]), transposed, and split into features (input) and labels (output) for further analysis.\n"
      ]
    },
    {
      "cell_type": "code",
      "execution_count": 3,
      "metadata": {
        "colab": {
          "base_uri": "https://localhost:8080/"
        },
        "id": "c_l7GyvwQvYU",
        "outputId": "bc54faea-de67-4213-ef9f-1355f08c16d3"
      },
      "outputs": [
        {
          "data": {
            "text/plain": [
              "array([[5, 7, 9, ..., 2, 9, 5],\n",
              "       [0, 0, 0, ..., 0, 0, 0],\n",
              "       [0, 0, 0, ..., 0, 0, 0],\n",
              "       [0, 0, 0, ..., 0, 0, 0],\n",
              "       [0, 0, 0, ..., 0, 0, 0]])"
            ]
          },
          "execution_count": 3,
          "metadata": {},
          "output_type": "execute_result"
        }
      ],
      "source": [
        "# Convert the data into NumPy array\n",
        "data = np.array(data)\n",
        "\n",
        "# Transpose the data\n",
        "data = data.T\n",
        "\n",
        "# Display the data\n",
        "data[:5]"
      ]
    },
    {
      "cell_type": "code",
      "execution_count": 4,
      "metadata": {
        "colab": {
          "base_uri": "https://localhost:8080/"
        },
        "id": "j7ZroZYQRYr4",
        "outputId": "0d922123-88a6-4dd8-9843-96bb4a51ba4c"
      },
      "outputs": [
        {
          "data": {
            "text/plain": [
              "array([[0., 0., 0., ..., 0., 0., 0.],\n",
              "       [0., 0., 0., ..., 0., 0., 0.],\n",
              "       [0., 0., 0., ..., 1., 0., 0.],\n",
              "       [0., 0., 0., ..., 0., 0., 0.],\n",
              "       [0., 0., 0., ..., 0., 0., 0.]])"
            ]
          },
          "execution_count": 4,
          "metadata": {},
          "output_type": "execute_result"
        }
      ],
      "source": [
        "# Extract the target from the whole dataset\n",
        "label = data[0]\n",
        "\n",
        "# Produce a 2x2 One-Hot Encoded matrix\n",
        "number_classes = len(np.unique(data[0]))\n",
        "target = np.eye(number_classes)[label]\n",
        "\n",
        "# Transpose the target and display it\n",
        "target = target.T\n",
        "\n",
        "target[:5]"
      ]
    },
    {
      "cell_type": "code",
      "execution_count": 5,
      "metadata": {
        "colab": {
          "base_uri": "https://localhost:8080/"
        },
        "id": "Y6dlkrJnSS8U",
        "outputId": "c8faf3eb-da04-4c8f-bd21-fca8a52a3ac6"
      },
      "outputs": [
        {
          "data": {
            "text/plain": [
              "array([[0., 0., 0., ..., 0., 0., 0.],\n",
              "       [0., 0., 0., ..., 0., 0., 0.],\n",
              "       [0., 0., 0., ..., 0., 0., 0.],\n",
              "       [0., 0., 0., ..., 0., 0., 0.],\n",
              "       [0., 0., 0., ..., 0., 0., 0.]])"
            ]
          },
          "execution_count": 5,
          "metadata": {},
          "output_type": "execute_result"
        }
      ],
      "source": [
        "# Preprocess the features set\n",
        "features = data[1:]\n",
        "\n",
        "# Scale by the Maximum Factor\n",
        "features = features / 255.0\n",
        "\n",
        "# Display the features\n",
        "features[:5]"
      ]
    },
    {
      "cell_type": "code",
      "execution_count": 6,
      "metadata": {
        "colab": {
          "base_uri": "https://localhost:8080/"
        },
        "id": "FWHAzrnWSwHe",
        "outputId": "cf3087bf-9662-4e3c-d1a3-52e674e76b0f"
      },
      "outputs": [
        {
          "name": "stdout",
          "output_type": "stream",
          "text": [
            "Shape of Features: (784, 19999)\n",
            "Shape of Target: (10, 19999)\n"
          ]
        }
      ],
      "source": [
        "# Print the shape of both sets\n",
        "print(f\"Shape of Features: {features.shape}\")\n",
        "print(f\"Shape of Target: {target.shape}\")"
      ]
    },
    {
      "cell_type": "markdown",
      "metadata": {
        "id": "uN5Q2exUoYZ-"
      },
      "source": [
        "### Task 3a. Split data into training, and validation sets"
      ]
    },
    {
      "cell_type": "markdown",
      "metadata": {
        "id": "s6t9JwKgo4ot"
      },
      "source": [
        "#### Mini-Batch Gradient descent\n",
        "\n",
        "The process of how to create mini-batches from a training set (X, Y), involves two steps:\n",
        "\n",
        "1. *Shuffle*: Shuffle the training set (X, Y) randomly so that each column of X and Y represents a different training example. This step ensures that the examples will be split randomly into different mini-batches.\n",
        "\n",
        "2. *Partition*: Partition the shuffled (X, Y) into mini-batches of size mini_batch_size, which is typically set to 32. Note that the number of training examples may not always be divisible by mini_batch_size, and the last mini-batch might be smaller. However, when the final mini-batch is smaller than the full mini_batch_size, it will still be used for training.\n",
        "\n",
        "It's important to note that the last mini-batch might end up being smaller than mini_batch_size=32. If the total number of examples is not a multiple of mini_batch_size=32, then there will be m/mini_batch_size mini-batches with a full 32 examples."
      ]
    },
    {
      "cell_type": "code",
      "execution_count": 7,
      "metadata": {
        "colab": {
          "base_uri": "https://localhost:8080/"
        },
        "id": "eOmIMY2rS7iV",
        "outputId": "f8068a2b-f7cc-413a-cf03-83e2e336a118"
      },
      "outputs": [
        {
          "name": "stdout",
          "output_type": "stream",
          "text": [
            "Shape of train batches: 500\n",
            "Shape of validation batches: 125\n"
          ]
        }
      ],
      "source": [
        "def random_mini_batches(X, Y, validation_split=0.2, mini_batch_size=32, seed=0):\n",
        "\n",
        "    np.random.seed(seed)  # Set seed for reproducibility\n",
        "    m = X.shape[1]  # Total number of examples\n",
        "    m_val = int(m * validation_split)  # Number of validation examples\n",
        "\n",
        "    # Shuffle indices\n",
        "    permutation = np.random.permutation(m)\n",
        "    shuffled_X = X[:, permutation]\n",
        "    shuffled_Y = Y[:, permutation]\n",
        "\n",
        "    # Split into training and validation sets\n",
        "    X_train = shuffled_X[:, m_val:]\n",
        "    Y_train = shuffled_Y[:, m_val:]\n",
        "    X_val = shuffled_X[:, :m_val]\n",
        "    Y_val = shuffled_Y[:, :m_val]\n",
        "\n",
        "    # Generate random mini-batches for training data\n",
        "    num_complete_minibatches_train = X_train.shape[1] // mini_batch_size\n",
        "    mini_batches_train = []\n",
        "\n",
        "    for k in range(num_complete_minibatches_train):\n",
        "        mini_batch_X_train = X_train[:, k * mini_batch_size : (k + 1) * mini_batch_size]\n",
        "        mini_batch_Y_train = Y_train[:, k * mini_batch_size : (k + 1) * mini_batch_size]\n",
        "        mini_batches_train.append((mini_batch_X_train, mini_batch_Y_train))\n",
        "\n",
        "    # Handling the end case (last mini-batch < mini_batch_size) for training\n",
        "    if X_train.shape[1] % mini_batch_size != 0:\n",
        "        mini_batch_X_train = X_train[:, num_complete_minibatches_train * mini_batch_size :]\n",
        "        mini_batch_Y_train = Y_train[:, num_complete_minibatches_train * mini_batch_size :]\n",
        "        mini_batches_train.append((mini_batch_X_train, mini_batch_Y_train))\n",
        "\n",
        "    # Generate random mini-batches for validation data\n",
        "    num_complete_minibatches_val = X_val.shape[1] // mini_batch_size\n",
        "    mini_batches_val = []\n",
        "\n",
        "    for k in range(num_complete_minibatches_val):\n",
        "        mini_batch_X_val = X_val[:, k * mini_batch_size : (k + 1) * mini_batch_size]\n",
        "        mini_batch_Y_val = Y_val[:, k * mini_batch_size : (k + 1) * mini_batch_size]\n",
        "        mini_batches_val.append((mini_batch_X_val, mini_batch_Y_val))\n",
        "\n",
        "    # Handling the end case (last mini-batch < mini_batch_size) for validation\n",
        "    if X_val.shape[1] % mini_batch_size != 0:\n",
        "        mini_batch_X_val = X_val[:, num_complete_minibatches_val * mini_batch_size :]\n",
        "        mini_batch_Y_val = Y_val[:, num_complete_minibatches_val * mini_batch_size :]\n",
        "        mini_batches_val.append((mini_batch_X_val, mini_batch_Y_val))\n",
        "\n",
        "    return mini_batches_train, mini_batches_val\n",
        "\n",
        "mini_batches_train, mini_batches_val = random_mini_batches(features, target, validation_split=0.2, mini_batch_size=32, seed=0)\n",
        "\n",
        "print(f\"Shape of train batches: {len(mini_batches_train)}\")\n",
        "print(f\"Shape of validation batches: {len(mini_batches_val)}\")"
      ]
    },
    {
      "cell_type": "markdown",
      "metadata": {
        "id": "IdBXnZe6qmOd"
      },
      "source": [
        "It is worth noting that the training and validation batches that are returned, are a list of tuples that include x_train, y_train, x_validation, and y_validation."
      ]
    },
    {
      "cell_type": "markdown",
      "metadata": {
        "id": "TXCKwrvirw-L"
      },
      "source": [
        "### Task 1b. Activation Functions"
      ]
    },
    {
      "cell_type": "markdown",
      "metadata": {
        "id": "t9Ha0RdLr7Ml"
      },
      "source": [
        "We implement Leaky ReLU as our chosen activation function, leveraging its benefits in handling vanishing gradients.\n",
        "\n",
        "The function's formula is defined as: ${Leaky}$ ${ReLU}$ = \\begin{cases}x, & \\text{if } x \\geq 0 \\\\\\alpha x, & \\text{if } x < 0 \\end{cases}\n",
        "\n",
        "From Calculus we know, that the derivative of this function is given by: ${Leaky}$ ${ReLU}$ ${Derivative}$ = \\begin{cases} 1, & \\text{if } x \\geq 0 \\\\ \\alpha, & \\text{if } x < 0 \\end{cases}\n",
        "\n",
        "\n",
        "In this case, $\\alpha$ is considered as a small constant (say 0.01), which helps Leaky ReLU substitutes zero values with some small value\n",
        "\n",
        "Lastly, The softmax function for the output layer is defined as:\n",
        "${Softmax}(z_i) = \\frac{e^{z_i}}{\\sum_{j=1}^{K} e^{z_j}}$"
      ]
    },
    {
      "cell_type": "code",
      "execution_count": 8,
      "metadata": {
        "id": "99t6nvnfTHpM"
      },
      "outputs": [],
      "source": [
        "def Leaky_ReLU(z, alpha=0.01):\n",
        "  return np.maximum(z, z * alpha)\n",
        "\n",
        "def Leaky_ReLU_derivative(z, alpha=0.01):\n",
        "  return np.where(z > 0, 1, alpha)\n",
        "\n",
        "def Softmax(z):\n",
        "  exp_z = np.exp(z - np.max(z, axis=0, keepdims=True))\n",
        "  return exp_z / np.sum(exp_z, axis=0, keepdims=True)"
      ]
    },
    {
      "cell_type": "markdown",
      "metadata": {
        "id": "B2yM_TpPvDCn"
      },
      "source": [
        "### Task 2b. Feed Forward Neural Network"
      ]
    },
    {
      "cell_type": "code",
      "execution_count": 9,
      "metadata": {
        "id": "4YW9Y7KTTtAh"
      },
      "outputs": [],
      "source": [
        "# Initializing Parameters\n",
        "\n",
        "def initialize_parameters(input_size, hidden_size, output_size):\n",
        "\n",
        "  np.random.seed(0) # Set seed() parameter to ensure reproducibility of results\n",
        "\n",
        "  # Initialize the parameters\n",
        "  W1 = np.random.randn(hidden_size, input_size) * 0.01 # Multiply by a small constant\n",
        "  b1 = np.zeros((hidden_size, 1))\n",
        "  W2 = np.random.randn(output_size, hidden_size) * 0.01\n",
        "  b2 = np.zeros((output_size, 1))\n",
        "\n",
        "  parameters = {'W1':W1,\n",
        "                'b1':b1,\n",
        "                'W2':W2,\n",
        "                'b2':b2}\n",
        "\n",
        "  return parameters"
      ]
    },
    {
      "cell_type": "markdown",
      "metadata": {
        "id": "lDvlKJa3xFrG"
      },
      "source": [
        "### Task 3b. Forward Propagation"
      ]
    },
    {
      "cell_type": "markdown",
      "metadata": {
        "id": "thYsXQn6xTP9"
      },
      "source": [
        "The formulas for the Feed-Forward propagation are given as follows:\n",
        "\n",
        "$ z_1 = W_1 * x + b_1 $\n",
        "\n",
        "$ a_1 = f( z_1 ) $  \n",
        "\n",
        "$ z_2 = W2 * a_1 + b_2 $\n",
        "\n",
        "$ a_2 = Softmax( z_2 ) $"
      ]
    },
    {
      "cell_type": "code",
      "execution_count": 10,
      "metadata": {
        "id": "MdX7h9vEVCAP"
      },
      "outputs": [],
      "source": [
        "# Forward Propagation\n",
        "\n",
        "def forward_propagation(x, parameters):\n",
        "\n",
        "  # Extract the associated parameters\n",
        "  W1 = parameters['W1']\n",
        "  b1 = parameters['b1']\n",
        "  W2 = parameters['W2']\n",
        "  b2 = parameters['b2']\n",
        "\n",
        "  z1 = np.dot(W1, x) + b1\n",
        "  a1 = Leaky_ReLU(z1)\n",
        "  z2 = np.dot(W2, a1) + b2\n",
        "  a2 = Softmax(z2)\n",
        "\n",
        "  forward_cache = {'z1':z1,\n",
        "                   'a1':a1,\n",
        "                   'z2':z2,\n",
        "                   'a2':a2}\n",
        "\n",
        "  return a2, forward_cache"
      ]
    },
    {
      "cell_type": "markdown",
      "metadata": {
        "id": "80kJ1NR_xlM7"
      },
      "source": [
        "### Task 4b. Cost Function\n",
        "The formula for calculating the Categorical Cross Entropy is given by:\n",
        "\n",
        "$Cost = - \\frac{1}{m}\\sum_{i=1}^{m}\\sum_{k=1}^{n}[ y_k*log(a_k) ]$"
      ]
    },
    {
      "cell_type": "code",
      "execution_count": 11,
      "metadata": {
        "id": "WnThHrv-VhhF"
      },
      "outputs": [],
      "source": [
        "# Calculating Cost\n",
        "\n",
        "def compute_cost(a2, y, epsilon=1e-8):\n",
        "\n",
        "  logprobs = -np.log(a2 + epsilon) * y # Loss for each observation\n",
        "  cost = np.mean(logprobs)\n",
        "\n",
        "  return cost"
      ]
    },
    {
      "cell_type": "markdown",
      "metadata": {
        "id": "4ian_6-QxwOK"
      },
      "source": [
        "### Task 1c. Backpropagation"
      ]
    },
    {
      "cell_type": "markdown",
      "metadata": {
        "id": "yPGiQEGjxzYR"
      },
      "source": [
        "Backpropagation Formulas are given as follows:\n",
        "\n",
        "$dZ_2 = ( a_2 - y )$\n",
        "\n",
        "$ dW_2 = \\frac{1}{m}. dZ_2 . a_1^T$\n",
        "\n",
        "$ db_2 = \\frac{1}{m}.sum(dZ_2, 1)$\n",
        "\n",
        "$dZ_1 = W_2^T . dZ_2 * f_1^/(z_1) $\n",
        "\n",
        "$dW_1 = \\frac{1}{m}.dZ_1.x^T$\n",
        "\n",
        "$db_1 = \\frac{1}{m}.sum(dZ_1, 1)$"
      ]
    },
    {
      "cell_type": "code",
      "execution_count": 12,
      "metadata": {
        "id": "2rZVWBr-Vwfv"
      },
      "outputs": [],
      "source": [
        "# Backward Propagation\n",
        "def backward_propagation(x, y, forward_cache, parameters):\n",
        "\n",
        "  W2 = parameters['W2']\n",
        "\n",
        "  z1 = forward_cache['z1']\n",
        "  a1 = forward_cache['a1']\n",
        "  a2 = forward_cache['a2']\n",
        "\n",
        "  m = x.shape[1] # Shape of the X train\n",
        "  dZ2 = a2 - y\n",
        "  dW2 = (1 / m) * np.dot(dZ2, a1.T)\n",
        "  db2 = (1 / m) * np.sum(dZ2, axis=1, keepdims=True)\n",
        "  dZ1 = np.dot(W2.T, dZ2) * Leaky_ReLU_derivative(z1)\n",
        "  dW1 = (1 / m) * np.dot(dZ1, x.T)\n",
        "  db1 = (1 / m) * np.sum(dZ1, axis=1, keepdims=True)\n",
        "\n",
        "  gradients = {'dW1':dW1,\n",
        "               'db1':db1,\n",
        "               'dW2':dW2,\n",
        "               'db2':db2}\n",
        "\n",
        "  return gradients"
      ]
    },
    {
      "cell_type": "markdown",
      "metadata": {
        "id": "z_XCgK8GyUjv"
      },
      "source": [
        "### Task 2c. Initializing Momentum and RMSprop"
      ]
    },
    {
      "cell_type": "markdown",
      "metadata": {
        "id": "xin47I0TywTh"
      },
      "source": [
        "#### Momentum\n",
        "\n",
        "Because mini-batch gradient descent makes a parameter update after seeing just a subset of examples, the direction of the update has some variance, and so the path taken by mini-batch gradient descent will \"oscillate\" toward convergence. Using momentum can reduce these oscillations.\n",
        "\n",
        "Momentum takes into account the past gradients to smooth out the update. Formally, this will be the exponentially weighted average of the gradient in the previous steps."
      ]
    },
    {
      "cell_type": "markdown",
      "metadata": {
        "id": "OsrkyVRlzo_o"
      },
      "source": [
        "#### RMSprop\n",
        "\n",
        "RMSprop (Root Mean Square Propagation) is an optimization algorithm used for training neural networks. The algorithm adapts the learning rate of each parameter by scaling it with a moving average of the magnitude of recent gradients for that parameter. The gist of RMSprop is to:\n",
        "1. Maintain a moving (discounted) average of the square of gradients.\n",
        "2. Divide the gradient by the root of this average.\n",
        "\n",
        "Since the main objective of RMSprop is restricting the oscillations in the vertical direction, it takes larger steps in the horizontal direction, leading to faster converging compared to the SGD+Momentum"
      ]
    },
    {
      "cell_type": "markdown",
      "metadata": {
        "id": "UvUSPTH32SE5"
      },
      "source": [
        "We will implement two Python dictionaries containing the exponentially weighted average of the first and squared gradients. The associated values will be NumPy arrays of zeros with the same shape as the corresponding parameters."
      ]
    },
    {
      "cell_type": "code",
      "execution_count": 13,
      "metadata": {
        "id": "Z1LVVuCOXf4F"
      },
      "outputs": [],
      "source": [
        "def initialize_adam(parameters):\n",
        "\n",
        "  # Define two empty dictionaries for `Momentum`, and `RMSprop`, respectively\n",
        "  velocity = {}\n",
        "  cache = {}\n",
        "\n",
        "  for key, value in parameters.items():\n",
        "\n",
        "    # Add the zeros to both dictionaries for each parameter (W, b)\n",
        "    velocity[key] = np.zeros_like(value)\n",
        "    cache[key] = np.zeros_like(value)\n",
        "\n",
        "  return velocity, cache"
      ]
    },
    {
      "cell_type": "markdown",
      "metadata": {
        "id": "ZzaOt6kI8kA0"
      },
      "source": [
        "For implementing the parameters update with momentum, and RMSprop, the update rules are given as follows:"
      ]
    },
    {
      "cell_type": "markdown",
      "metadata": {
        "id": "ENZj5C0kAiM6"
      },
      "source": [
        "#### Update Rule For Momentum:\n",
        "\n",
        "$\\left\\{\n",
        "\\begin{align*}\n",
        "v_{dW^{[l]}} &= \\beta v_{dW^{[l]}} + (1 - \\beta) dW^{[l]} \\\\\n",
        "W^{[l]} &= W^{[l]} - \\alpha v_{dW^{[l]}}\n",
        "\\end{align*}\n",
        "\\right.$\n",
        "\n",
        "</br>\n",
        "\n",
        "$\\left\\{\n",
        "\\begin{align*}\n",
        "v_{db^{[l]}} &= \\beta v_{db^{[l]}} + (1 - \\beta) db^{[l]} \\\\\n",
        "b^{[l]} &= b^{[l]} - \\alpha v_{db^{[l]}}\n",
        "\\end{align*}\n",
        "\\right.$"
      ]
    },
    {
      "cell_type": "markdown",
      "metadata": {
        "id": "vsAcNK1-AyXM"
      },
      "source": [
        "#### Similarly for RMSprop:\n",
        "\n",
        "$\n",
        "\\left\\{\n",
        "\\begin{align*}\n",
        "s_{dW^{[l]}} &= \\beta s_{dW^{[l]}} + (1 - \\beta) {dW^{[l]}}^2 \\\\\n",
        "W^{[l]} &= W^{[l]} - \\alpha \\frac{dW^{[l]}}{\\sqrt{s_{dW^{[l]}}} + \\epsilon}\n",
        "\\end{align*}\n",
        "\\right.\n",
        "$\n",
        "\n",
        "</br>\n",
        "\n",
        "$\n",
        "\\left\\{\n",
        "\\begin{align*}\n",
        "s_{db^{[l]}} &= \\beta s_{db^{[l]}} + (1 - \\beta) {db^{[l]}}^2 \\\\\n",
        "b^{[l]} &= b^{[l]} - \\alpha \\frac{db^{[l]}}{\\sqrt{s_{db^{[l]}}} + \\epsilon}\n",
        "\\end{align*}\n",
        "\\right.\n",
        "$"
      ]
    },
    {
      "cell_type": "markdown",
      "metadata": {
        "id": "yMFyaFpREE4p"
      },
      "source": [
        "**Note** that The larger the momentum ${\\beta}$ is, the smoother the update because the more we take the past gradients into account. But if ${\\beta}$ is too big, it could also smooth out the updates too much.\n",
        "\n",
        "> The default value for ${\\beta_1}$ (Momentum parameter) is usually considered as 0.9\n",
        "\n",
        "> While the value of ${\\beta_2}$ (RMSprop parameter) is often considered as 0.999"
      ]
    },
    {
      "cell_type": "markdown",
      "metadata": {
        "id": "Pp7999nd5y8q"
      },
      "source": [
        "### Task 3c. Updating parameters with Adam"
      ]
    },
    {
      "cell_type": "markdown",
      "metadata": {
        "id": "_AhDTU8U6Uq7"
      },
      "source": [
        "Adam is considered one of the most effective and capable optimization algorithms for training neural networks. It combines ideas from RMSProp and Momentum to improve performance.\n",
        "\n",
        "To do this:\n",
        "1. it calculates an exponentially weighted average of past gradients and stores it in two variables: $velocity$ (before bias correction) and $velocity^ {corrected}$ (with bias correction).\n",
        "2. Similarly, it calculates an exponentially weighted average of the squares of past gradients and stores them in two other variables: $cache$ (before bias correction) and $cache^ {corrected}$ (with bias correction).\n",
        "\n",
        "3. After this, it updates parameters in a direction based on combining information from the velocity and cache variables."
      ]
    },
    {
      "cell_type": "markdown",
      "metadata": {
        "id": "Ezrb--FHFT6C"
      },
      "source": [
        "$\n",
        "\\left\\{\n",
        "\\begin{align*}\n",
        "v_{dW^{[l]}} &= \\beta_1 v_{dW^{[l]}} + (1 - \\beta_1) \\frac{\\partial J}{\\partial W^{[l]}} \\\\\n",
        "v_{dW^{[l]}}^{corrected} &= \\frac{v_{dW^{[l]}}}{1 - (\\beta_1)^t} \\\\\n",
        "s_{dW^{[l]}} &= \\beta_2 s_{dW^{[l]}} + (1 - \\beta_2) \\left( \\frac{\\partial J}{\\partial W^{[l]}} \\right)^2 \\\\\n",
        "s_{dW^{[l]}}^{corrected} &= \\frac{s_{dW^{[l]}}}{1 - (\\beta_2)^t} \\\\\n",
        "W^{[l]} &= W^{[l]} - \\alpha \\frac{v_{dW^{[l]}}^{corrected}}{\\sqrt{s_{dW^{[l]}}^{corrected}} + \\epsilon} \\\\\n",
        "b^{[l]} & = b^{[l]} - \\alpha \\frac{v_{db^{[l]}}^{corrected}}{\\sqrt{s_{db^{[l]}}^{corrected}} + \\epsilon}\n",
        "\\end{align*}\n",
        "\\right.\n",
        "$"
      ]
    },
    {
      "cell_type": "markdown",
      "metadata": {
        "id": "FHIOqcjuHjHl"
      },
      "source": [
        "where:\n",
        "\n",
        "- `t` counts the number of steps taken of Adam\n",
        "- `L` is the number of layers\n",
        "- ${\\beta_1}$ and ${\\beta_2}$ are hyperparameters that control the two exponentially weighted averages. (Common values 0.9 and 0.999, respectively)\n",
        "- ${\\alpha}$ is the learning rate. (a hyperparameter that must be tuned)\n",
        "- ${\\epsilon}$ is a very small number to avoid dividing by zero. (Common value: ${10^{-8}}$)"
      ]
    },
    {
      "cell_type": "markdown",
      "metadata": {
        "id": "D4SRs1iGLL1H"
      },
      "source": [
        "#### Learning Rate Decay"
      ]
    },
    {
      "cell_type": "markdown",
      "metadata": {
        "id": "bxWOveDGJ2YB"
      },
      "source": [
        "Another commonly used technique alongside Adam Optimizer and Mini-Batch Gradient Descent, is *Learning Rate Decay*. This involves gradually reducing the learning rate at each step of the process. By decrementing the learning rate over time, we can improve the convergence and overall performance of our model. As we approach the minimum, the value of the learning rate will decrease accordingly. The primary goal of learning rate decay is to fine-tune the learning process and prevent overshooting of the minima, according to the given formula:\n",
        "\n",
        "$\n",
        "\\alpha = \\alpha_0 \\times \\frac{1}{1 + \\text{decay_rate} \\times \\text{epoch}}\n",
        "\\\n",
        "$"
      ]
    },
    {
      "cell_type": "code",
      "execution_count": 14,
      "metadata": {
        "id": "wFxaooxEYO63"
      },
      "outputs": [],
      "source": [
        "# Update Parameters using Adam\n",
        "\n",
        "def update_parameters(parameters, gradients, velocity, cache, learning_rate, decay_rate, current_iteration, momentum_coefficient=0.9, rmsprop_coefficient=0.999, epsilon=1e-8):\n",
        "\n",
        "  # Rename the Beta parameters\n",
        "  beta1 = momentum_coefficient\n",
        "  beta2 = rmsprop_coefficient\n",
        "\n",
        "  # Create empty dictionary for Bias Correction\n",
        "  corrected_velocity = {}\n",
        "  corrected_cache = {}\n",
        "\n",
        "  # Compute decayed learning rate\n",
        "  learning_rate_decay = learning_rate / (1 + decay_rate * current_iteration)\n",
        "\n",
        "  for parameter in parameters:\n",
        "\n",
        "    # Update the velocity dictionary (Momentum)\n",
        "    velocity[parameter] = beta1 * velocity[parameter] + (1 - beta1) * gradients['d' + parameter]\n",
        "    corrected_velocity[parameter] = velocity[parameter] / (1 - beta1)\n",
        "\n",
        "    # Update cache dictionary (RMSprop)\n",
        "    cache[parameter] = beta2 * cache[parameter] + (1 - beta2) * (gradients['d' + parameter] ** 2)\n",
        "    corrected_cache[parameter] = cache[parameter] / (1 - beta2)\n",
        "\n",
        "    # Update parameters with decayed learning rate\n",
        "    parameters[parameter] -= learning_rate_decay * corrected_velocity[parameter] / (np.sqrt(corrected_cache[parameter]) + epsilon)\n",
        "\n",
        "  return parameters, velocity, cache"
      ]
    },
    {
      "cell_type": "markdown",
      "metadata": {
        "id": "Fquc1LOENRU-"
      },
      "source": [
        "### Task 1d. Predictions and Evaluation Metrics"
      ]
    },
    {
      "cell_type": "markdown",
      "metadata": {
        "id": "_QdhKqJ5RDFP"
      },
      "source": [
        "We would consider `Accuracy` as the Evaluation Metrics.\n",
        "\n",
        "To calculate accuracy, first, make predictions on the validation-test data, and then, use the corresponding ground truth to calculate the proportion of true predicted images by the model."
      ]
    },
    {
      "cell_type": "code",
      "execution_count": 15,
      "metadata": {
        "id": "ymL49BWOaU6j"
      },
      "outputs": [],
      "source": [
        "# Make Predictions on the validation and test sets\n",
        "\n",
        "def predict(x, parameters):\n",
        "\n",
        "  a2, _ = forward_propagation(x, parameters)\n",
        "  return np.argmax(a2, axis=0)"
      ]
    },
    {
      "cell_type": "code",
      "execution_count": 16,
      "metadata": {
        "id": "Wu8yeBvdad6Z"
      },
      "outputs": [],
      "source": [
        "# `Accuracy` as Evaluation Metrics\n",
        "\n",
        "def accuracy_score(prediction, label):\n",
        "  return np.mean(prediction == np.argmax(label, axis=0))"
      ]
    },
    {
      "cell_type": "markdown",
      "metadata": {
        "id": "6vw2A3zkNyib"
      },
      "source": [
        "### Task 2d. Plotting the Cost"
      ]
    },
    {
      "cell_type": "code",
      "execution_count": 17,
      "metadata": {
        "id": "_kV5bz6RbDdJ"
      },
      "outputs": [],
      "source": [
        "# Plot the loss per each observation\n",
        "def plot_cost_graph(cost_history):\n",
        "\n",
        "  sns.set_theme(style='darkgrid')\n",
        "  iterations = len(cost_history)\n",
        "  plt.figure(figsize=(22, 8))\n",
        "  plt.plot(range(iterations), cost_history)\n",
        "  plt.title('Cost vs. Iterations')\n",
        "  plt.xlabel('Iterations')\n",
        "  plt.ylabel('Cost')\n",
        "  plt.grid(True)\n",
        "  plt.show();"
      ]
    },
    {
      "cell_type": "markdown",
      "metadata": {
        "id": "Fei-zzSFN6ka"
      },
      "source": [
        "### Task 1e. Evaluating Model"
      ]
    },
    {
      "cell_type": "markdown",
      "metadata": {
        "id": "YHVosJGkO0cq"
      },
      "source": [
        "##### Mini-Batch Gradient Descent"
      ]
    },
    {
      "cell_type": "code",
      "execution_count": 18,
      "metadata": {
        "id": "l2jVRavFaoWZ"
      },
      "outputs": [],
      "source": [
        "# Mini-Batch Gradient Descent model\n",
        "\n",
        "def mini_batch_gradient_descent(X_train, Y_train, input_size, hidden_size, output_size, learning_rate, iterations, mini_batch_size=32, decay_rate=0.1):\n",
        "\n",
        "  # Initialize parameters\n",
        "  parameters = initialize_parameters(input_size, hidden_size, output_size)\n",
        "  velocity, cache = initialize_adam(parameters)\n",
        "\n",
        "  # Store cost history for plotting\n",
        "  cost_history = []\n",
        "\n",
        "  # Loop through epochs\n",
        "  for epoch in range(iterations):\n",
        "    epoch_cost = 0\n",
        "    seed = epoch  # Set seed for reproducibility of mini-batches\n",
        "\n",
        "    # Generate mini-batches\n",
        "    mini_batches_train, _ = random_mini_batches(X_train, Y_train, mini_batch_size=mini_batch_size, seed=seed)\n",
        "\n",
        "    # Loop through mini-batches\n",
        "    for mini_batch_X, mini_batch_Y in mini_batches_train:\n",
        "      # Forward propagation\n",
        "      a2, forward_cache = forward_propagation(mini_batch_X, parameters)\n",
        "\n",
        "      # Compute cost\n",
        "      cost = compute_cost(a2, mini_batch_Y)\n",
        "      epoch_cost += cost\n",
        "\n",
        "      # Backward propagation\n",
        "      gradients = backward_propagation(mini_batch_X, mini_batch_Y, forward_cache, parameters)\n",
        "\n",
        "      # Update parameters using gradients and optimization techniques (velocity, RMSprop)\n",
        "      parameters, velocity, cache = update_parameters(parameters, gradients, velocity, cache, learning_rate, decay_rate, epoch)\n",
        "\n",
        "    # Compute average cost for the epoch\n",
        "    epoch_cost /= len(mini_batches_train)\n",
        "    cost_history.append(epoch_cost)\n",
        "\n",
        "    # Print progress\n",
        "    if epoch % 10 == 0:\n",
        "      print(f\"Epoch {epoch}: Cost = {epoch_cost:.4}\")\n",
        "\n",
        "  return parameters, cost_history\n",
        "\n",
        "input_size = features.shape[0]\n",
        "hidden_size = 10\n",
        "output_size = number_classes  # Number of classes\n",
        "\n",
        "learning_rate = 0.0001\n",
        "num_epochs = 175\n",
        "mini_batch_size = 32\n",
        "decay_rate = 0.001"
      ]
    },
    {
      "cell_type": "code",
      "execution_count": 19,
      "metadata": {
        "colab": {
          "base_uri": "https://localhost:8080/",
          "height": 612
        },
        "id": "NKNhdQx2cTBP",
        "outputId": "41489ef8-ae9c-4e3a-d7f1-bd7defae1d82"
      },
      "outputs": [
        {
          "name": "stdout",
          "output_type": "stream",
          "text": [
            "Epoch 0: Cost = 0.2204\n",
            "Epoch 10: Cost = 0.09235\n",
            "Epoch 20: Cost = 0.06227\n",
            "Epoch 30: Cost = 0.05085\n",
            "Epoch 40: Cost = 0.04546\n",
            "Epoch 50: Cost = 0.04147\n",
            "Epoch 60: Cost = 0.03957\n",
            "Epoch 70: Cost = 0.03701\n",
            "Epoch 80: Cost = 0.03634\n",
            "Epoch 90: Cost = 0.03434\n",
            "Epoch 100: Cost = 0.03371\n",
            "Epoch 110: Cost = 0.03247\n",
            "Epoch 120: Cost = 0.03206\n",
            "Epoch 130: Cost = 0.03103\n",
            "Epoch 140: Cost = 0.03007\n",
            "Epoch 150: Cost = 0.02945\n",
            "Epoch 160: Cost = 0.02926\n",
            "Epoch 170: Cost = 0.02873\n"
          ]
        },
        {
          "data": {
            "image/png": "[encoded data removed]",
            "text/plain": [
              "<Figure size 2200x800 with 1 Axes>"
            ]
          },
          "metadata": {},
          "output_type": "display_data"
        },
        {
          "name": "stdout",
          "output_type": "stream",
          "text": [
            "Training accuracy: 0.9199\n",
            "Validation accuracy: 0.918\n"
          ]
        }
      ],
      "source": [
        "# Perform gradient descent\n",
        "trained_parameters, cost_history = mini_batch_gradient_descent(features, target, input_size, hidden_size, output_size, learning_rate, num_epochs, mini_batch_size, decay_rate)\n",
        "\n",
        "# Plot cost history\n",
        "plot_cost_graph(cost_history)\n",
        "\n",
        "# Make predictions and evaluate accuracy\n",
        "predictions_train = predict(features, trained_parameters)\n",
        "accuracy_train = accuracy_score(predictions_train, target)\n",
        "print(f\"Training accuracy: {accuracy_train:.4}\")\n",
        "\n",
        "# Extract x and y components from each mini-batch in validation set\n",
        "X_val_list = []\n",
        "y_val_list = []\n",
        "for mini_batch_X, mini_batch_Y in mini_batches_val:\n",
        "    X_val_list.append(mini_batch_X)\n",
        "    y_val_list.append(mini_batch_Y)\n",
        "\n",
        "# Concatenate the extracted lists into single arrays\n",
        "X_val = np.concatenate(X_val_list, axis=1)\n",
        "y_val = np.concatenate(y_val_list, axis=1)\n",
        "\n",
        "# Make predictions on the combined validation set\n",
        "predictions_val = predict(X_val, trained_parameters)\n",
        "\n",
        "# Calculate accuracy on the validation set\n",
        "accuracy_val = accuracy_score(predictions_val, y_val)\n",
        "print(f\"Validation accuracy: {accuracy_val:.4}\")"
      ]
    },
    {
      "cell_type": "markdown",
      "metadata": {
        "id": "KDxR178fO3Ec"
      },
      "source": [
        "### Task 2e. Visualizing Model Performance on Validation set"
      ]
    },
    {
      "cell_type": "markdown",
      "metadata": {
        "id": "V9VbiePVSWrY"
      },
      "source": [
        "Let's visualize the model performance on the validation data."
      ]
    },
    {
      "cell_type": "code",
      "execution_count": 20,
      "metadata": {
        "id": "B1uhWtnRdWmW"
      },
      "outputs": [],
      "source": [
        "def get_predictions(A2):\n",
        "  return np.argmax(A2, 0)\n",
        "\n",
        "def make_predictions(X, parameters):\n",
        "  A2, _ = forward_propagation(X, parameters)\n",
        "  predictions = get_predictions(A2)\n",
        "  return predictions\n",
        "\n",
        "def validation_prediction(index, parameters):\n",
        "  sns.set_theme(style='dark')\n",
        "  current_image = X_val[:, index, None]\n",
        "  prediction = make_predictions(X_val[:, index, None], parameters)\n",
        "  label_index = np.argmax(y_val[:, index])  # Find index of the maximum value in the one-hot encoded label\n",
        "  label = label_index  # Assign the numerical label\n",
        "\n",
        "  print(\"Prediction: \", prediction)\n",
        "  print(\"Label: \", label)\n",
        "\n",
        "  current_image = current_image.reshape((28, 28)) * 255\n",
        "  plt.gray()\n",
        "  plt.imshow(current_image, interpolation='nearest')\n",
        "  plt.show();"
      ]
    },
    {
      "cell_type": "code",
      "execution_count": 21,
      "metadata": {
        "colab": {
          "base_uri": "https://localhost:8080/",
          "height": 1000
        },
        "id": "8cGNfT7yebbJ",
        "outputId": "d3995992-d232-4c3e-acfc-a3527a1a1e77"
      },
      "outputs": [
        {
          "name": "stdout",
          "output_type": "stream",
          "text": [
            "Prediction:  [6]\n",
            "Label:  6\n"
          ]
        },
        {
          "data": {
            "image/png": "[encoded data removed]",
            "text/plain": [
              "<Figure size 640x480 with 1 Axes>"
            ]
          },
          "metadata": {},
          "output_type": "display_data"
        },
        {
          "name": "stdout",
          "output_type": "stream",
          "text": [
            "Prediction:  [4]\n",
            "Label:  4\n"
          ]
        },
        {
          "data": {
            "image/png": "[encoded data removed]",
            "text/plain": [
              "<Figure size 640x480 with 1 Axes>"
            ]
          },
          "metadata": {},
          "output_type": "display_data"
        },
        {
          "name": "stdout",
          "output_type": "stream",
          "text": [
            "Prediction:  [0]\n",
            "Label:  0\n"
          ]
        },
        {
          "data": {
            "image/png": "[encoded data removed]",
            "text/plain": [
              "<Figure size 640x480 with 1 Axes>"
            ]
          },
          "metadata": {},
          "output_type": "display_data"
        },
        {
          "name": "stdout",
          "output_type": "stream",
          "text": [
            "Prediction:  [5]\n",
            "Label:  5\n"
          ]
        },
        {
          "data": {
            "image/png": "[encoded data removed]",
            "text/plain": [
              "<Figure size 640x480 with 1 Axes>"
            ]
          },
          "metadata": {},
          "output_type": "display_data"
        }
      ],
      "source": [
        "# Call the function\n",
        "validation_prediction(0, trained_parameters)\n",
        "validation_prediction(1, trained_parameters)\n",
        "validation_prediction(2, trained_parameters)\n",
        "validation_prediction(3, trained_parameters)"
      ]
    },
    {
      "cell_type": "markdown",
      "metadata": {
        "id": "L4b-4vdhPQW7"
      },
      "source": [
        "### Task 1f. Model Performance on Test data"
      ]
    },
    {
      "cell_type": "markdown",
      "metadata": {
        "id": "0NHLRs5mSnyt"
      },
      "source": [
        "Since the model is well-performed, let's test our model's capabilities on external test data, and compute its accuracy metrics"
      ]
    },
    {
      "cell_type": "code",
      "execution_count": 22,
      "metadata": {
        "colab": {
          "base_uri": "https://localhost:8080/",
          "height": 255
        },
        "id": "7csRLRmAedkw",
        "outputId": "631490dc-82a5-4e73-ab6b-203381cd9f55"
      },
      "outputs": [
        {
          "data": {
            "application/vnd.google.colaboratory.intrinsic+json": {
              "type": "dataframe",
              "variable_name": "test_data"
            },
            "text/html": [
              "\n",
              "  <div id=\"df-d6aef5db-fdee-4e61-9950-77e55a22bcd9\" class=\"colab-df-container\">\n",
              "    <div>\n",
              "<style scoped>\n",
              "    .dataframe tbody tr th:only-of-type {\n",
              "        vertical-align: middle;\n",
              "    }\n",
              "\n",
              "    .dataframe tbody tr th {\n",
              "        vertical-align: top;\n",
              "    }\n",
              "\n",
              "    .dataframe thead th {\n",
              "        text-align: right;\n",
              "    }\n",
              "</style>\n",
              "<table border=\"1\" class=\"dataframe\">\n",
              "  <thead>\n",
              "    <tr style=\"text-align: right;\">\n",
              "      <th></th>\n",
              "      <th>label</th>\n",
              "      <th>0</th>\n",
              "      <th>0.1</th>\n",
              "      <th>0.2</th>\n",
              "      <th>0.3</th>\n",
              "      <th>0.4</th>\n",
              "      <th>0.5</th>\n",
              "      <th>0.6</th>\n",
              "      <th>0.7</th>\n",
              "      <th>0.8</th>\n",
              "      <th>...</th>\n",
              "      <th>0.658</th>\n",
              "      <th>0.659</th>\n",
              "      <th>0.660</th>\n",
              "      <th>0.661</th>\n",
              "      <th>0.662</th>\n",
              "      <th>0.663</th>\n",
              "      <th>0.664</th>\n",
              "      <th>0.665</th>\n",
              "      <th>0.666</th>\n",
              "      <th>0.667</th>\n",
              "    </tr>\n",
              "  </thead>\n",
              "  <tbody>\n",
              "    <tr>\n",
              "      <th>0</th>\n",
              "      <td>2</td>\n",
              "      <td>0</td>\n",
              "      <td>0</td>\n",
              "      <td>0</td>\n",
              "      <td>0</td>\n",
              "      <td>0</td>\n",
              "      <td>0</td>\n",
              "      <td>0</td>\n",
              "      <td>0</td>\n",
              "      <td>0</td>\n",
              "      <td>...</td>\n",
              "      <td>0</td>\n",
              "      <td>0</td>\n",
              "      <td>0</td>\n",
              "      <td>0</td>\n",
              "      <td>0</td>\n",
              "      <td>0</td>\n",
              "      <td>0</td>\n",
              "      <td>0</td>\n",
              "      <td>0</td>\n",
              "      <td>0</td>\n",
              "    </tr>\n",
              "    <tr>\n",
              "      <th>1</th>\n",
              "      <td>1</td>\n",
              "      <td>0</td>\n",
              "      <td>0</td>\n",
              "      <td>0</td>\n",
              "      <td>0</td>\n",
              "      <td>0</td>\n",
              "      <td>0</td>\n",
              "      <td>0</td>\n",
              "      <td>0</td>\n",
              "      <td>0</td>\n",
              "      <td>...</td>\n",
              "      <td>0</td>\n",
              "      <td>0</td>\n",
              "      <td>0</td>\n",
              "      <td>0</td>\n",
              "      <td>0</td>\n",
              "      <td>0</td>\n",
              "      <td>0</td>\n",
              "      <td>0</td>\n",
              "      <td>0</td>\n",
              "      <td>0</td>\n",
              "    </tr>\n",
              "    <tr>\n",
              "      <th>2</th>\n",
              "      <td>0</td>\n",
              "      <td>0</td>\n",
              "      <td>0</td>\n",
              "      <td>0</td>\n",
              "      <td>0</td>\n",
              "      <td>0</td>\n",
              "      <td>0</td>\n",
              "      <td>0</td>\n",
              "      <td>0</td>\n",
              "      <td>0</td>\n",
              "      <td>...</td>\n",
              "      <td>0</td>\n",
              "      <td>0</td>\n",
              "      <td>0</td>\n",
              "      <td>0</td>\n",
              "      <td>0</td>\n",
              "      <td>0</td>\n",
              "      <td>0</td>\n",
              "      <td>0</td>\n",
              "      <td>0</td>\n",
              "      <td>0</td>\n",
              "    </tr>\n",
              "    <tr>\n",
              "      <th>3</th>\n",
              "      <td>4</td>\n",
              "      <td>0</td>\n",
              "      <td>0</td>\n",
              "      <td>0</td>\n",
              "      <td>0</td>\n",
              "      <td>0</td>\n",
              "      <td>0</td>\n",
              "      <td>0</td>\n",
              "      <td>0</td>\n",
              "      <td>0</td>\n",
              "      <td>...</td>\n",
              "      <td>0</td>\n",
              "      <td>0</td>\n",
              "      <td>0</td>\n",
              "      <td>0</td>\n",
              "      <td>0</td>\n",
              "      <td>0</td>\n",
              "      <td>0</td>\n",
              "      <td>0</td>\n",
              "      <td>0</td>\n",
              "      <td>0</td>\n",
              "    </tr>\n",
              "    <tr>\n",
              "      <th>4</th>\n",
              "      <td>1</td>\n",
              "      <td>0</td>\n",
              "      <td>0</td>\n",
              "      <td>0</td>\n",
              "      <td>0</td>\n",
              "      <td>0</td>\n",
              "      <td>0</td>\n",
              "      <td>0</td>\n",
              "      <td>0</td>\n",
              "      <td>0</td>\n",
              "      <td>...</td>\n",
              "      <td>0</td>\n",
              "      <td>0</td>\n",
              "      <td>0</td>\n",
              "      <td>0</td>\n",
              "      <td>0</td>\n",
              "      <td>0</td>\n",
              "      <td>0</td>\n",
              "      <td>0</td>\n",
              "      <td>0</td>\n",
              "      <td>0</td>\n",
              "    </tr>\n",
              "  </tbody>\n",
              "</table>\n",
              "<p>5 rows × 785 columns</p>\n",
              "</div>\n",
              "    <div class=\"colab-df-buttons\">\n",
              "\n",
              "  <div class=\"colab-df-container\">\n",
              "    <button class=\"colab-df-convert\" onclick=\"convertToInteractive('df-d6aef5db-fdee-4e61-9950-77e55a22bcd9')\"\n",
              "            title=\"Convert this dataframe to an interactive table.\"\n",
              "            style=\"display:none;\">\n",
              "\n",
              "  <svg xmlns=\"http://www.w3.org/2000/svg\" height=\"24px\" viewBox=\"0 -960 960 960\">\n",
              "    <path d=\"M120-120v-720h720v720H120Zm60-500h600v-160H180v160Zm220 220h160v-160H400v160Zm0 220h160v-160H400v160ZM180-400h160v-160H180v160Zm440 0h160v-160H620v160ZM180-180h160v-160H180v160Zm440 0h160v-160H620v160Z\"/>\n",
              "  </svg>\n",
              "    </button>\n",
              "\n",
              "  <style>\n",
              "    .colab-df-container {\n",
              "      display:flex;\n",
              "      gap: 12px;\n",
              "    }\n",
              "\n",
              "    .colab-df-convert {\n",
              "      background-color: #E8F0FE;\n",
              "      border: none;\n",
              "      border-radius: 50%;\n",
              "      cursor: pointer;\n",
              "      display: none;\n",
              "      fill: #1967D2;\n",
              "      height: 32px;\n",
              "      padding: 0 0 0 0;\n",
              "      width: 32px;\n",
              "    }\n",
              "\n",
              "    .colab-df-convert:hover {\n",
              "      background-color: #E2EBFA;\n",
              "      box-shadow: 0px 1px 2px rgba(60, 64, 67, 0.3), 0px 1px 3px 1px rgba(60, 64, 67, 0.15);\n",
              "      fill: #174EA6;\n",
              "    }\n",
              "\n",
              "    .colab-df-buttons div {\n",
              "      margin-bottom: 4px;\n",
              "    }\n",
              "\n",
              "    [theme=dark] .colab-df-convert {\n",
              "      background-color: #3B4455;\n",
              "      fill: #D2E3FC;\n",
              "    }\n",
              "\n",
              "    [theme=dark] .colab-df-convert:hover {\n",
              "      background-color: #434B5C;\n",
              "      box-shadow: 0px 1px 3px 1px rgba(0, 0, 0, 0.15);\n",
              "      filter: drop-shadow(0px 1px 2px rgba(0, 0, 0, 0.3));\n",
              "      fill: #FFFFFF;\n",
              "    }\n",
              "  </style>\n",
              "\n",
              "    <script>\n",
              "      const buttonEl =\n",
              "        document.querySelector('#df-d6aef5db-fdee-4e61-9950-77e55a22bcd9 button.colab-df-convert');\n",
              "      buttonEl.style.display =\n",
              "        google.colab.kernel.accessAllowed ? 'block' : 'none';\n",
              "\n",
              "      async function convertToInteractive(key) {\n",
              "        const element = document.querySelector('#df-d6aef5db-fdee-4e61-9950-77e55a22bcd9');\n",
              "        const dataTable =\n",
              "          await google.colab.kernel.invokeFunction('convertToInteractive',\n",
              "                                                    [key], {});\n",
              "        if (!dataTable) return;\n",
              "\n",
              "        const docLinkHtml = 'Like what you see? Visit the ' +\n",
              "          '<a target=\"_blank\" href=https://colab.research.google.com/notebooks/data_table.ipynb>data table notebook</a>'\n",
              "          + ' to learn more about interactive tables.';\n",
              "        element.innerHTML = '';\n",
              "        dataTable['output_type'] = 'display_data';\n",
              "        await google.colab.output.renderOutput(dataTable, element);\n",
              "        const docLink = document.createElement('div');\n",
              "        docLink.innerHTML = docLinkHtml;\n",
              "        element.appendChild(docLink);\n",
              "      }\n",
              "    </script>\n",
              "  </div>\n",
              "\n",
              "\n",
              "<div id=\"df-ed038a70-7ef9-464c-ab4c-050b6e4e229c\">\n",
              "  <button class=\"colab-df-quickchart\" onclick=\"quickchart('df-ed038a70-7ef9-464c-ab4c-050b6e4e229c')\"\n",
              "            title=\"Suggest charts\"\n",
              "            style=\"display:none;\">\n",
              "\n",
              "<svg xmlns=\"http://www.w3.org/2000/svg\" height=\"24px\"viewBox=\"0 0 24 24\"\n",
              "     width=\"24px\">\n",
              "    <g>\n",
              "        <path d=\"M19 3H5c-1.1 0-2 .9-2 2v14c0 1.1.9 2 2 2h14c1.1 0 2-.9 2-2V5c0-1.1-.9-2-2-2zM9 17H7v-7h2v7zm4 0h-2V7h2v10zm4 0h-2v-4h2v4z\"/>\n",
              "    </g>\n",
              "</svg>\n",
              "  </button>\n",
              "\n",
              "<style>\n",
              "  .colab-df-quickchart {\n",
              "      --bg-color: #E8F0FE;\n",
              "      --fill-color: #1967D2;\n",
              "      --hover-bg-color: #E2EBFA;\n",
              "      --hover-fill-color: #174EA6;\n",
              "      --disabled-fill-color: #AAA;\n",
              "      --disabled-bg-color: #DDD;\n",
              "  }\n",
              "\n",
              "  [theme=dark] .colab-df-quickchart {\n",
              "      --bg-color: #3B4455;\n",
              "      --fill-color: #D2E3FC;\n",
              "      --hover-bg-color: #434B5C;\n",
              "      --hover-fill-color: #FFFFFF;\n",
              "      --disabled-bg-color: #3B4455;\n",
              "      --disabled-fill-color: #666;\n",
              "  }\n",
              "\n",
              "  .colab-df-quickchart {\n",
              "    background-color: var(--bg-color);\n",
              "    border: none;\n",
              "    border-radius: 50%;\n",
              "    cursor: pointer;\n",
              "    display: none;\n",
              "    fill: var(--fill-color);\n",
              "    height: 32px;\n",
              "    padding: 0;\n",
              "    width: 32px;\n",
              "  }\n",
              "\n",
              "  .colab-df-quickchart:hover {\n",
              "    background-color: var(--hover-bg-color);\n",
              "    box-shadow: 0 1px 2px rgba(60, 64, 67, 0.3), 0 1px 3px 1px rgba(60, 64, 67, 0.15);\n",
              "    fill: var(--button-hover-fill-color);\n",
              "  }\n",
              "\n",
              "  .colab-df-quickchart-complete:disabled,\n",
              "  .colab-df-quickchart-complete:disabled:hover {\n",
              "    background-color: var(--disabled-bg-color);\n",
              "    fill: var(--disabled-fill-color);\n",
              "    box-shadow: none;\n",
              "  }\n",
              "\n",
              "  .colab-df-spinner {\n",
              "    border: 2px solid var(--fill-color);\n",
              "    border-color: transparent;\n",
              "    border-bottom-color: var(--fill-color);\n",
              "    animation:\n",
              "      spin 1s steps(1) infinite;\n",
              "  }\n",
              "\n",
              "  @keyframes spin {\n",
              "    0% {\n",
              "      border-color: transparent;\n",
              "      border-bottom-color: var(--fill-color);\n",
              "      border-left-color: var(--fill-color);\n",
              "    }\n",
              "    20% {\n",
              "      border-color: transparent;\n",
              "      border-left-color: var(--fill-color);\n",
              "      border-top-color: var(--fill-color);\n",
              "    }\n",
              "    30% {\n",
              "      border-color: transparent;\n",
              "      border-left-color: var(--fill-color);\n",
              "      border-top-color: var(--fill-color);\n",
              "      border-right-color: var(--fill-color);\n",
              "    }\n",
              "    40% {\n",
              "      border-color: transparent;\n",
              "      border-right-color: var(--fill-color);\n",
              "      border-top-color: var(--fill-color);\n",
              "    }\n",
              "    60% {\n",
              "      border-color: transparent;\n",
              "      border-right-color: var(--fill-color);\n",
              "    }\n",
              "    80% {\n",
              "      border-color: transparent;\n",
              "      border-right-color: var(--fill-color);\n",
              "      border-bottom-color: var(--fill-color);\n",
              "    }\n",
              "    90% {\n",
              "      border-color: transparent;\n",
              "      border-bottom-color: var(--fill-color);\n",
              "    }\n",
              "  }\n",
              "</style>\n",
              "\n",
              "  <script>\n",
              "    async function quickchart(key) {\n",
              "      const quickchartButtonEl =\n",
              "        document.querySelector('#' + key + ' button');\n",
              "      quickchartButtonEl.disabled = true;  // To prevent multiple clicks.\n",
              "      quickchartButtonEl.classList.add('colab-df-spinner');\n",
              "      try {\n",
              "        const charts = await google.colab.kernel.invokeFunction(\n",
              "            'suggestCharts', [key], {});\n",
              "      } catch (error) {\n",
              "        console.error('Error during call to suggestCharts:', error);\n",
              "      }\n",
              "      quickchartButtonEl.classList.remove('colab-df-spinner');\n",
              "      quickchartButtonEl.classList.add('colab-df-quickchart-complete');\n",
              "    }\n",
              "    (() => {\n",
              "      let quickchartButtonEl =\n",
              "        document.querySelector('#df-ed038a70-7ef9-464c-ab4c-050b6e4e229c button');\n",
              "      quickchartButtonEl.style.display =\n",
              "        google.colab.kernel.accessAllowed ? 'block' : 'none';\n",
              "    })();\n",
              "  </script>\n",
              "</div>\n",
              "    </div>\n",
              "  </div>\n"
            ],
            "text/plain": [
              "   label  0  0.1  0.2  0.3  0.4  0.5  0.6  0.7  0.8  ...  0.658  0.659  0.660  \\\n",
              "0      2  0    0    0    0    0    0    0    0    0  ...      0      0      0   \n",
              "1      1  0    0    0    0    0    0    0    0    0  ...      0      0      0   \n",
              "2      0  0    0    0    0    0    0    0    0    0  ...      0      0      0   \n",
              "3      4  0    0    0    0    0    0    0    0    0  ...      0      0      0   \n",
              "4      1  0    0    0    0    0    0    0    0    0  ...      0      0      0   \n",
              "\n",
              "   0.661  0.662  0.663  0.664  0.665  0.666  0.667  \n",
              "0      0      0      0      0      0      0      0  \n",
              "1      0      0      0      0      0      0      0  \n",
              "2      0      0      0      0      0      0      0  \n",
              "3      0      0      0      0      0      0      0  \n",
              "4      0      0      0      0      0      0      0  \n",
              "\n",
              "[5 rows x 785 columns]"
            ]
          },
          "execution_count": 22,
          "metadata": {},
          "output_type": "execute_result"
        }
      ],
      "source": [
        "# Load and Read the Test data\n",
        "test_data = pd.read_csv('/content/sample_data/mnist_test.csv')\n",
        "test_data = test_data.rename(columns={'7':'label'})\n",
        "\n",
        "# Display a few couple of rows\n",
        "test_data.head()"
      ]
    },
    {
      "cell_type": "code",
      "execution_count": 23,
      "metadata": {
        "colab": {
          "base_uri": "https://localhost:8080/"
        },
        "id": "jdyWkVt8fBFU",
        "outputId": "0a7e284d-989d-4bee-9084-7ad7ffc59dab"
      },
      "outputs": [
        {
          "data": {
            "text/plain": [
              "array([[2, 1, 0, ..., 4, 5, 6],\n",
              "       [0, 0, 0, ..., 0, 0, 0],\n",
              "       [0, 0, 0, ..., 0, 0, 0],\n",
              "       [0, 0, 0, ..., 0, 0, 0],\n",
              "       [0, 0, 0, ..., 0, 0, 0]])"
            ]
          },
          "execution_count": 23,
          "metadata": {},
          "output_type": "execute_result"
        }
      ],
      "source": [
        "# Convert the Test data into NumPy array, and display it\n",
        "test_data = np.array(test_data)\n",
        "test_data = test_data.T\n",
        "\n",
        "test_data[:5]"
      ]
    },
    {
      "cell_type": "code",
      "execution_count": 24,
      "metadata": {
        "id": "hozv9WH0oc-c"
      },
      "outputs": [],
      "source": [
        "# Extract the ground truth from the data\n",
        "y_test = test_data[0]\n",
        "\n",
        "# One-Hot Encode the `y_test`\n",
        "number_classes = len(np.unique(test_data[0]))\n",
        "y_test = np.eye(number_classes)[y_test]\n",
        "y_test = y_test.T"
      ]
    },
    {
      "cell_type": "code",
      "execution_count": 25,
      "metadata": {
        "id": "7phI_9z_o0S0"
      },
      "outputs": [],
      "source": [
        "# Scale the x data by dividing it by the Maximum Pixel Factor\n",
        "x_test = test_data[1:]\n",
        "x_test = x_test / 255.0"
      ]
    },
    {
      "cell_type": "code",
      "execution_count": 26,
      "metadata": {
        "colab": {
          "base_uri": "https://localhost:8080/"
        },
        "id": "2b9MBB8Eo8oT",
        "outputId": "cf6ce7c4-38c3-468c-d219-3532930d280b"
      },
      "outputs": [
        {
          "name": "stdout",
          "output_type": "stream",
          "text": [
            "Shape of x_test: (784, 9999)\n",
            "Shape of y_test: (10, 9999)\n"
          ]
        }
      ],
      "source": [
        "# Display the shape of the sets\n",
        "print(f\"Shape of x_test: {x_test.shape}\")\n",
        "print(f\"Shape of y_test: {y_test.shape}\")"
      ]
    },
    {
      "cell_type": "markdown",
      "metadata": {
        "id": "zNRZXAUxPokP"
      },
      "source": [
        "### Task 2f. Visualizing Model Performance on Test set"
      ]
    },
    {
      "cell_type": "code",
      "execution_count": 27,
      "metadata": {
        "id": "wHFkY_JmpFEM"
      },
      "outputs": [],
      "source": [
        "def get_predictions(A2):\n",
        "  return np.argmax(A2, 0)\n",
        "\n",
        "def make_predictions(X, parameters):\n",
        "  A2, _ = forward_propagation(X, parameters)\n",
        "  predictions = get_predictions(A2)\n",
        "  return predictions\n",
        "\n",
        "def test_prediction(index, parameters):\n",
        "  sns.set_theme(style='dark')\n",
        "  current_image = x_test[:, index, None]\n",
        "  prediction = make_predictions(x_test[:, index, None], parameters)\n",
        "  label_index = np.argmax(y_test[:, index])  # Find index of the maximum value in the one-hot encoded label\n",
        "  label = label_index  # Assign the numerical label\n",
        "\n",
        "  print(\"Prediction: \", prediction)\n",
        "  print(\"Label: \", label)\n",
        "\n",
        "  current_image = current_image.reshape((28, 28)) * 255\n",
        "  plt.gray()\n",
        "  plt.imshow(current_image, interpolation='nearest')\n",
        "  plt.show();"
      ]
    },
    {
      "cell_type": "code",
      "execution_count": 28,
      "metadata": {
        "colab": {
          "base_uri": "https://localhost:8080/",
          "height": 1000
        },
        "id": "JdXq3D5vpH90",
        "outputId": "90584222-5242-4659-9b57-fbb1791bd62e"
      },
      "outputs": [
        {
          "name": "stdout",
          "output_type": "stream",
          "text": [
            "Prediction:  [9]\n",
            "Label:  9\n"
          ]
        },
        {
          "data": {
            "image/png": "[encoded data removed]",
            "text/plain": [
              "<Figure size 640x480 with 1 Axes>"
            ]
          },
          "metadata": {},
          "output_type": "display_data"
        },
        {
          "name": "stdout",
          "output_type": "stream",
          "text": [
            "Prediction:  [7]\n",
            "Label:  7\n"
          ]
        },
        {
          "data": {
            "image/png": "[encoded data removed]",
            "text/plain": [
              "<Figure size 640x480 with 1 Axes>"
            ]
          },
          "metadata": {},
          "output_type": "display_data"
        },
        {
          "name": "stdout",
          "output_type": "stream",
          "text": [
            "Prediction:  [3]\n",
            "Label:  3\n"
          ]
        },
        {
          "data": {
            "image/png": "[encoded data removed]",
            "text/plain": [
              "<Figure size 640x480 with 1 Axes>"
            ]
          },
          "metadata": {},
          "output_type": "display_data"
        },
        {
          "name": "stdout",
          "output_type": "stream",
          "text": [
            "Prediction:  [8]\n",
            "Label:  8\n"
          ]
        },
        {
          "data": {
            "image/png": "[encoded data removed]",
            "text/plain": [
              "<Figure size 640x480 with 1 Axes>"
            ]
          },
          "metadata": {},
          "output_type": "display_data"
        }
      ],
      "source": [
        "# Call the function\n",
        "test_prediction(500, trained_parameters)\n",
        "test_prediction(300, trained_parameters)\n",
        "test_prediction(990, trained_parameters)\n",
        "test_prediction(400, trained_parameters)"
      ]
    },
    {
      "cell_type": "markdown",
      "metadata": {
        "id": "gOguMf-WP7tU"
      },
      "source": [
        "### Task 3f. Calculating Accuracy score for Model Performance on Test data"
      ]
    },
    {
      "cell_type": "code",
      "execution_count": 29,
      "metadata": {
        "colab": {
          "base_uri": "https://localhost:8080/"
        },
        "id": "zccIyKrNtZIO",
        "outputId": "f47b1722-4a3f-4b49-e767-f58afc910ebb"
      },
      "outputs": [
        {
          "name": "stdout",
          "output_type": "stream",
          "text": [
            "Accuracy on Test set: 0.9147\n"
          ]
        }
      ],
      "source": [
        "# Accuracy score on Test data\n",
        "def predict(x_test, trained_parameters):\n",
        "  a2, _ = forward_propagation(x_test, trained_parameters)\n",
        "  return np.argmax(a2, axis=0)\n",
        "\n",
        "def accuracy_score(predictions, target):\n",
        "  return np.mean(predictions == np.argmax(target, axis=0))\n",
        "\n",
        "predictions = predict(x_test, trained_parameters)\n",
        "print(f\"Accuracy on Test set: {accuracy_score(predictions, y_test):.4}\")"
      ]
    },
    {
      "cell_type": "markdown",
      "metadata": {
        "id": "gXxGFjZeQltM"
      },
      "source": [
        "### Task 4f. Visualizing Wrong Predictions"
      ]
    },
    {
      "cell_type": "markdown",
      "metadata": {
        "id": "XfIGUXbuQK7F"
      },
      "source": [
        "Let's see the number of incorrect predictions made by our model, and visualize them."
      ]
    },
    {
      "cell_type": "code",
      "execution_count": 30,
      "metadata": {
        "colab": {
          "base_uri": "https://localhost:8080/"
        },
        "id": "LX1QtkS8wJI0",
        "outputId": "ee78b8f4-679b-4069-c97c-39cdddccd2ac"
      },
      "outputs": [
        {
          "data": {
            "text/plain": [
              "10"
            ]
          },
          "execution_count": 30,
          "metadata": {},
          "output_type": "execute_result"
        }
      ],
      "source": [
        "# Number of wrong predictions\n",
        "len(y_test != predictions)"
      ]
    },
    {
      "cell_type": "code",
      "execution_count": 31,
      "metadata": {
        "colab": {
          "base_uri": "https://localhost:8080/",
          "height": 307
        },
        "id": "UyBLD4GuwWmf",
        "outputId": "88b51fe9-406c-4ec3-ffe8-414e62b40300"
      },
      "outputs": [
        {
          "data": {
            "image/png": "[encoded data removed]",
            "text/plain": [
              "<Figure size 1500x800 with 10 Axes>"
            ]
          },
          "metadata": {},
          "output_type": "display_data"
        }
      ],
      "source": [
        "# Identify indices of incorrect predictions\n",
        "incorrect_indices = np.where(predictions != np.argmax(y_test, axis=0))[0]\n",
        "\n",
        "# Select first 10 incorrect indices (assuming there are at least 10 incorrect predictions)\n",
        "incorrect_indices = incorrect_indices[:10]\n",
        "\n",
        "# Plot the incorrect images alongside their correct labels\n",
        "plt.figure(figsize=(15, 8))\n",
        "for i, idx in enumerate(incorrect_indices):\n",
        "    # Get the incorrectly predicted image and its true label\n",
        "    incorrect_image = x_test[:, idx].reshape((28, 28)) * 255\n",
        "    true_label = np.argmax(y_test[:, idx])\n",
        "\n",
        "    # Make prediction for the image\n",
        "    predicted_label = predictions[idx]\n",
        "\n",
        "    # Plot the incorrect image with its predicted and true labels\n",
        "    plt.subplot(2, 5, i + 1)\n",
        "    plt.imshow(incorrect_image, cmap='gray')\n",
        "    plt.title(f\"True: {true_label}, Predicted: {predicted_label}\")\n",
        "    plt.axis('off')\n",
        "\n",
        "plt.tight_layout()\n",
        "plt.show();"
      ]
    },
    {
      "cell_type": "markdown",
      "metadata": {
        "id": "ivHP4X8XQzJN"
      },
      "source": [
        "### Conclusion"
      ]
    },
    {
      "cell_type": "markdown",
      "metadata": {
        "id": "7p1WMNk3RmtW"
      },
      "source": [
        "##### **Performance Analysis**\n",
        "\n",
        "1. Training Accuracy:\n",
        "> The training accuracy of 91.99% indicates that the model performs well on the training data. This suggests that the model has learned to fit the training data reasonably well.\n",
        "\n",
        "2. Validation Accuracy:\n",
        "> The validation accuracy of 91.80% is very close to the training accuracy. This suggests that the model's performance is consistent and not overfitting specifically to the training data.\n",
        "\n",
        "3. Test Set Accuracy:\n",
        "> The accuracy on the test set, which is 91.47%, is slightly lower than the training and validation accuracies. This is expected as the test set represents unseen data, and a small drop in accuracy is typical due to slight differences between training and test distributions."
      ]
    },
    {
      "cell_type": "markdown",
      "metadata": {
        "id": "1ZRvkm4CTDyx"
      },
      "source": [
        "It has been observed that some of the predictions made by the model were incorrect and illogical. For instance, in one of the examples, the model predicted the number 7 instead of an obvious 2.\n",
        "\n",
        "However, it is worth noting that half of the incorrect predictions were true over the human baseline. For example, the first image's true label was 5, but the model predicted it as a 6, which is also what a human might have seen. Similarly, the second and third images were predicted as 4 and 9, respectively, while their ground truth was 7 and 2. These predictions were close to what a human might have seen as well.\n",
        "\n",
        "Nevertheless, this indicates that the model can still improve further. Despite these inconsistencies, the overall performance of the model on the entire dataset was almost perfect."
      ]
    }
  ],
  "metadata": {
    "colab": {
      "provenance": []
    },
    "kernelspec": {
      "display_name": "Python 3",
      "name": "python3"
    },
    "language_info": {
      "name": "python"
    }
  },
  "nbformat": 4,
  "nbformat_minor": 0
}
